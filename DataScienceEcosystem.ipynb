{
 "cells": [
  {
   "cell_type": "markdown",
   "id": "ef184e6c",
   "metadata": {},
   "source": [
    "# Data Science Tools and Ecosystem"
   ]
  },
  {
   "cell_type": "markdown",
   "id": "69472ac5",
   "metadata": {},
   "source": [
    "Data science tools and ecosystem are summarized in this notebook. "
   ]
  },
  {
   "cell_type": "markdown",
   "id": "f72d3af4",
   "metadata": {},
   "source": [
    "**Objectives:**\n",
    "- List popular languages for data science\n",
    "- List common libraries for data science\n",
    "- Execute basic arithmetic using Python"
   ]
  },
  {
   "cell_type": "markdown",
   "id": "79d0f885",
   "metadata": {},
   "source": [
    "Some of the popular languages that Data Scientists use are:\n",
    "1. Python \n",
    "2. R\n",
    "3. JavaScript"
   ]
  },
  {
   "cell_type": "markdown",
   "id": "5e7ec3fe",
   "metadata": {},
   "source": [
    "Some of the commonly used libraries by Data Scientists are: \n",
    "1. TensorFlow\n",
    "2. Pandas\n",
    "3. ggplot2"
   ]
  },
  {
   "cell_type": "markdown",
   "id": "6e41e9c9",
   "metadata": {},
   "source": [
    "| Data Science Tools |\n",
    "|:-----------------: |\n",
    "| Git                |\n",
    "| VSCode             |\n",
    "| RStudio            |"
   ]
  },
  {
   "cell_type": "markdown",
   "id": "d76a24be",
   "metadata": {},
   "source": [
    "### Below are a few examples of arithmetic expressions in Python:"
   ]
  },
  {
   "cell_type": "code",
   "execution_count": 2,
   "id": "498ea500",
   "metadata": {},
   "outputs": [
    {
     "data": {
      "text/plain": [
       "17"
      ]
     },
     "execution_count": 2,
     "metadata": {},
     "output_type": "execute_result"
    }
   ],
   "source": [
    "(3*4)+5\n",
    "# This is a simple arithmetic expression to multiply then add integers. "
   ]
  },
  {
   "cell_type": "code",
   "execution_count": 8,
   "id": "3820a6a5",
   "metadata": {},
   "outputs": [
    {
     "name": "stdout",
     "output_type": "stream",
     "text": [
      "Time in hours and mins: 3 hours 20 minutes\n"
     ]
    }
   ],
   "source": [
    "minutes = 200\n",
    "\n",
    "# This will convert 200 minutes into full hours by dividing by 60 and rounding down.\n",
    "hours = minutes//60\n",
    "\n",
    "# This will find the remaining minutes \n",
    "extraMins = minutes%60\n",
    "\n",
    "# This will print our outputs with labels\n",
    "print(\"Time in hours and mins:\", hours, \"hours\", extraMins, \"minutes\")"
   ]
  },
  {
   "cell_type": "markdown",
   "id": "bcc0abc5",
   "metadata": {},
   "source": [
    "## Author\n",
    "Elijah Stahr"
   ]
  }
 ],
 "metadata": {
  "kernelspec": {
   "display_name": "Python 3 (ipykernel)",
   "language": "python",
   "name": "python3"
  },
  "language_info": {
   "codemirror_mode": {
    "name": "ipython",
    "version": 3
   },
   "file_extension": ".py",
   "mimetype": "text/x-python",
   "name": "python",
   "nbconvert_exporter": "python",
   "pygments_lexer": "ipython3",
   "version": "3.9.12"
  }
 },
 "nbformat": 4,
 "nbformat_minor": 5
}
